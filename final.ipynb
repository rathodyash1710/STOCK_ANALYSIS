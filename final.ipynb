{
 "cells": [
  {
   "cell_type": "code",
   "execution_count": 6,
   "id": "afb4c3f8",
   "metadata": {},
   "outputs": [],
   "source": [
    "import numpy as np\n",
    "import pandas as pd\n",
    "import matplotlib.pyplot as plt\n",
    "from pandas_datareader import data as pdr\n",
    "import datetime as dt\n",
    "import yfinance as yf\n",
    "import mplfinance as mpf"
   ]
  },
  {
   "cell_type": "code",
   "execution_count": null,
   "id": "45ec8a69",
   "metadata": {},
   "outputs": [],
   "source": [
    "\n",
    "# Get user input for start date\n",
    "start_input = input(\"Enter the start date (YYYY-MM-DD): \")\n",
    "start = dt.datetime.strptime(start_input, \"%Y-%m-%d\")\n",
    "\n",
    "# Get user input for end date\n",
    "end_input = input(\"Enter the end date (YYYY-MM-DD): \")\n",
    "end = dt.datetime.strptime(end_input, \"%Y-%m-%d\")\n",
    "\n",
    "# Get user input for stock symbol\n",
    "symbol = input(\"Enter the stock symbol (e.g., AAPL): \")\n",
    "\n",
    "# Download data from Yahoo Finance\n",
    "data = yf.download(symbol, start, end)\n",
    "\n",
    "# Display the first few rows of the data \n",
    "print(data.head())\n",
    "# print(type(data))\n"
   ]
  },
  {
   "cell_type": "code",
   "execution_count": 28,
   "id": "f7e916ec-bd79-485b-956c-86f7ef2c320f",
   "metadata": {},
   "outputs": [
    {
     "data": {
      "text/html": [
       "<div>\n",
       "<style scoped>\n",
       "    .dataframe tbody tr th:only-of-type {\n",
       "        vertical-align: middle;\n",
       "    }\n",
       "\n",
       "    .dataframe tbody tr th {\n",
       "        vertical-align: top;\n",
       "    }\n",
       "\n",
       "    .dataframe thead th {\n",
       "        text-align: right;\n",
       "    }\n",
       "</style>\n",
       "<table border=\"1\" class=\"dataframe\">\n",
       "  <thead>\n",
       "    <tr style=\"text-align: right;\">\n",
       "      <th></th>\n",
       "      <th>Open</th>\n",
       "      <th>High</th>\n",
       "      <th>Low</th>\n",
       "      <th>Close</th>\n",
       "      <th>Adj Close</th>\n",
       "      <th>Volume</th>\n",
       "    </tr>\n",
       "    <tr>\n",
       "      <th>Date</th>\n",
       "      <th></th>\n",
       "      <th></th>\n",
       "      <th></th>\n",
       "      <th></th>\n",
       "      <th></th>\n",
       "      <th></th>\n",
       "    </tr>\n",
       "  </thead>\n",
       "  <tbody>\n",
       "  </tbody>\n",
       "</table>\n",
       "</div>"
      ],
      "text/plain": [
       "Empty DataFrame\n",
       "Columns: [Open, High, Low, Close, Adj Close, Volume]\n",
       "Index: []"
      ]
     },
     "execution_count": 28,
     "metadata": {},
     "output_type": "execute_result"
    }
   ],
   "source": [
    "data.tail()"
   ]
  },
  {
   "cell_type": "code",
   "execution_count": 10,
   "id": "e7a66810-b8a7-4371-bf9d-71ccf71a3a88",
   "metadata": {},
   "outputs": [
    {
     "data": {
      "text/html": [
       "<div>\n",
       "<style scoped>\n",
       "    .dataframe tbody tr th:only-of-type {\n",
       "        vertical-align: middle;\n",
       "    }\n",
       "\n",
       "    .dataframe tbody tr th {\n",
       "        vertical-align: top;\n",
       "    }\n",
       "\n",
       "    .dataframe thead th {\n",
       "        text-align: right;\n",
       "    }\n",
       "</style>\n",
       "<table border=\"1\" class=\"dataframe\">\n",
       "  <thead>\n",
       "    <tr style=\"text-align: right;\">\n",
       "      <th></th>\n",
       "      <th>Date</th>\n",
       "      <th>Open</th>\n",
       "      <th>High</th>\n",
       "      <th>Low</th>\n",
       "      <th>Close</th>\n",
       "      <th>Adj Close</th>\n",
       "      <th>Volume</th>\n",
       "    </tr>\n",
       "  </thead>\n",
       "  <tbody>\n",
       "  </tbody>\n",
       "</table>\n",
       "</div>"
      ],
      "text/plain": [
       "Empty DataFrame\n",
       "Columns: [Date, Open, High, Low, Close, Adj Close, Volume]\n",
       "Index: []"
      ]
     },
     "execution_count": 10,
     "metadata": {},
     "output_type": "execute_result"
    }
   ],
   "source": [
    "data=data.reset_index()\n",
    "data.head()"
   ]
  },
  {
   "cell_type": "code",
   "execution_count": 11,
   "id": "7eaa2f3e-ebe9-49e2-b35b-37282a234817",
   "metadata": {},
   "outputs": [
    {
     "data": {
      "text/html": [
       "<div>\n",
       "<style scoped>\n",
       "    .dataframe tbody tr th:only-of-type {\n",
       "        vertical-align: middle;\n",
       "    }\n",
       "\n",
       "    .dataframe tbody tr th {\n",
       "        vertical-align: top;\n",
       "    }\n",
       "\n",
       "    .dataframe thead th {\n",
       "        text-align: right;\n",
       "    }\n",
       "</style>\n",
       "<table border=\"1\" class=\"dataframe\">\n",
       "  <thead>\n",
       "    <tr style=\"text-align: right;\">\n",
       "      <th></th>\n",
       "      <th>Open</th>\n",
       "      <th>High</th>\n",
       "      <th>Low</th>\n",
       "      <th>Close</th>\n",
       "      <th>Volume</th>\n",
       "    </tr>\n",
       "  </thead>\n",
       "  <tbody>\n",
       "  </tbody>\n",
       "</table>\n",
       "</div>"
      ],
      "text/plain": [
       "Empty DataFrame\n",
       "Columns: [Open, High, Low, Close, Volume]\n",
       "Index: []"
      ]
     },
     "execution_count": 11,
     "metadata": {},
     "output_type": "execute_result"
    }
   ],
   "source": [
    "data=data.drop([\"Date\",'Adj Close'],axis=1)\n",
    "data.tail()"
   ]
  },
  {
   "cell_type": "markdown",
   "id": "ad6c341e",
   "metadata": {},
   "source": [
    "# This histogram allows you to see the distribution of daily returns for the asset. By observing the shape of the histogram, you can gain insights into the volatility and risk associated with the asset. It helps in understanding how frequently certain levels of returns occur and whether the returns are normally distributed or skewed."
   ]
  },
  {
   "cell_type": "code",
   "execution_count": 12,
   "id": "a8fefbfb",
   "metadata": {},
   "outputs": [],
   "source": [
    "# Histogram of Daily Returns\n",
    "#pct_change()= (curent value-privious value)/volume\n",
    "def daily_returns():\n",
    "    returns = data['Close'].pct_change()\n",
    "    fig4 = plt.figure(figsize=(12,6))\n",
    "    plt.hist(returns.dropna(), bins=50, color='orange', alpha=0.7)\n",
    "    plt.title('Histogram of Daily Returns{}'.format(symbol), color='g', size=22)\n",
    "    plt.xlabel('Daily Returns', color='#FF5733', size=20)\n",
    "    plt.ylabel('Frequency', color='#FF5733', size=20)\n",
    "\n",
    "    plt.show()"
   ]
  },
  {
   "cell_type": "markdown",
   "id": "4e1026b9",
   "metadata": {},
   "source": [
    "# provide closing price releated analysis"
   ]
  },
  {
   "cell_type": "code",
   "execution_count": 13,
   "id": "97a8303c",
   "metadata": {},
   "outputs": [],
   "source": [
    "def closing_price():\n",
    "    plt.figure(figsize=(12, 6))  # Adjust the width and height as needed\n",
    "    plt.plot(data.Close)  # closing price\n",
    "    plt.title('Closing Price {}'.format(symbol), color='g', size=22)\n",
    "    plt.xlabel('Time', color='#FF5733', size=20)\n",
    "    plt.ylabel('Closing Price', color='#FF5733', size=20)\n",
    "    plt.show()"
   ]
  },
  {
   "cell_type": "markdown",
   "id": "3b97ccb1",
   "metadata": {},
   "source": [
    " "
   ]
  },
  {
   "cell_type": "code",
   "execution_count": 14,
   "id": "2560e2b8-6e33-430f-ba3b-c5dd8fc32836",
   "metadata": {},
   "outputs": [],
   "source": [
    "from ast import Return\n",
    "\n",
    "\n",
    "def returns():\n",
    "    returns = data['Close'].pct_change()\n",
    "    plt.figure(figsize=(12, 6))  # Adjust the width and height as needed\n",
    "    plt.plot(data.Close)  # closing price\n",
    "    plt.hist(returns.dropna(), bins=50, color='orange', alpha=0.7)\n",
    "    plt.title('Closing Price {}'.format(symbol), color='g', size=22)\n",
    "    plt.xlabel('Time', color='#FF5733', size=20)\n",
    "    plt.ylabel('Closing Price', color='#FF5733', size=20)\n",
    "    plt.show()\n"
   ]
  },
  {
   "cell_type": "code",
   "execution_count": 15,
   "id": "10511fbb-8839-4b75-9532-c2a526c5305b",
   "metadata": {},
   "outputs": [
    {
     "data": {
      "text/plain": [
       "Series([], Name: Close, dtype: float64)"
      ]
     },
     "execution_count": 15,
     "metadata": {},
     "output_type": "execute_result"
    }
   ],
   "source": [
    "ma100=data.Close.rolling(100).mean()\n",
    "ma100"
   ]
  },
  {
   "cell_type": "code",
   "execution_count": 16,
   "id": "c3953bcc",
   "metadata": {},
   "outputs": [],
   "source": [
    "moving_average(100)"
   ]
  },
  {
   "cell_type": "markdown",
   "id": "fbd4be25",
   "metadata": {},
   "source": [
    "# compare moving avrage of provided value"
   ]
  },
  {
   "cell_type": "code",
   "execution_count": 17,
   "id": "bfe55f50-7039-4eda-82a9-6b774685516f",
   "metadata": {},
   "outputs": [],
   "source": [
    "days2=200\n",
    "days1=100\n",
    "def moving_averages(d1,d2):\n",
    "    days2=d2\n",
    "    days1=d1\n",
    "    ma200=data.Close.rolling(days2).mean()\n",
    "    ma200\n",
    "    plt.figure(figsize=(12,6))\n",
    "    plt.plot(data.Close,label='closing price')\n",
    "    plt.plot(ma100,'r',label='moving price for {} days'.format(days1))\n",
    "    plt.plot(ma200,'g',label='moving price for {} days'.format(days2)) \n",
    "    plt.title('moving average and close price {}'.format(symbol), color='g', size=22)\n",
    "    plt.xlabel('Time', color='#FF5733', size=20)\n",
    "    plt.ylabel('close Price', color='#FF5733', size=20)\n",
    "    plt.legend()\n",
    "    plt.show()\n",
    "ma200=data.Close.rolling(days2).mean()"
   ]
  },
  {
   "cell_type": "code",
   "execution_count": 18,
   "id": "c20ed12b-2920-4125-8114-77a5c8b0a1cd",
   "metadata": {},
   "outputs": [],
   "source": [
    "data.shape"
   ]
  },
  {
   "cell_type": "code",
   "execution_count": 19,
   "id": "7de569bf-1d85-4d17-af3f-20753ae65d5e",
   "metadata": {},
   "outputs": [
    {
     "name": "stdout",
     "output_type": "stream",
     "text": [
      "(0, 1)\n",
      "(0, 1)\n"
     ]
    }
   ],
   "source": [
    "# Splitting data into Training and Testing\n",
    "data_training=pd.DataFrame(data['Close'][0:int(len(data)*0.7)])\n",
    "data_testing=pd.DataFrame(data['Close'][int(len(data)*0.7):int(len(data))])\n",
    "print(data_training.shape)\n",
    "print(data_testing.shape)"
   ]
  },
  {
   "cell_type": "code",
   "execution_count": 20,
   "id": "65a50c19-9d42-4094-bc84-56fe31c68d94",
   "metadata": {},
   "outputs": [
    {
     "data": {
      "text/html": [
       "<div>\n",
       "<style scoped>\n",
       "    .dataframe tbody tr th:only-of-type {\n",
       "        vertical-align: middle;\n",
       "    }\n",
       "\n",
       "    .dataframe tbody tr th {\n",
       "        vertical-align: top;\n",
       "    }\n",
       "\n",
       "    .dataframe thead th {\n",
       "        text-align: right;\n",
       "    }\n",
       "</style>\n",
       "<table border=\"1\" class=\"dataframe\">\n",
       "  <thead>\n",
       "    <tr style=\"text-align: right;\">\n",
       "      <th></th>\n",
       "      <th>Close</th>\n",
       "    </tr>\n",
       "  </thead>\n",
       "  <tbody>\n",
       "  </tbody>\n",
       "</table>\n",
       "</div>"
      ],
      "text/plain": [
       "Empty DataFrame\n",
       "Columns: [Close]\n",
       "Index: []"
      ]
     },
     "execution_count": 20,
     "metadata": {},
     "output_type": "execute_result"
    }
   ],
   "source": [
    "data_training.head()"
   ]
  },
  {
   "cell_type": "code",
   "execution_count": 21,
   "id": "bbd33137-30ab-4855-ac40-e09f7387df46",
   "metadata": {},
   "outputs": [
    {
     "data": {
      "text/html": [
       "<div>\n",
       "<style scoped>\n",
       "    .dataframe tbody tr th:only-of-type {\n",
       "        vertical-align: middle;\n",
       "    }\n",
       "\n",
       "    .dataframe tbody tr th {\n",
       "        vertical-align: top;\n",
       "    }\n",
       "\n",
       "    .dataframe thead th {\n",
       "        text-align: right;\n",
       "    }\n",
       "</style>\n",
       "<table border=\"1\" class=\"dataframe\">\n",
       "  <thead>\n",
       "    <tr style=\"text-align: right;\">\n",
       "      <th></th>\n",
       "      <th>Close</th>\n",
       "    </tr>\n",
       "  </thead>\n",
       "  <tbody>\n",
       "  </tbody>\n",
       "</table>\n",
       "</div>"
      ],
      "text/plain": [
       "Empty DataFrame\n",
       "Columns: [Close]\n",
       "Index: []"
      ]
     },
     "execution_count": 21,
     "metadata": {},
     "output_type": "execute_result"
    }
   ],
   "source": [
    "data_testing.head()"
   ]
  },
  {
   "cell_type": "code",
   "execution_count": 22,
   "id": "02223693-689d-42f0-86cc-de42dac4861d",
   "metadata": {},
   "outputs": [],
   "source": [
    "from sklearn.preprocessing import MinMaxScaler\n",
    "scaler=MinMaxScaler(feature_range=(0,1))"
   ]
  },
  {
   "cell_type": "code",
   "execution_count": 23,
   "id": "a562a901-e60a-401b-9d46-15db9934b5de",
   "metadata": {},
   "outputs": [],
   "source": [
    "#pip install scikit-learn"
   ]
  },
  {
   "cell_type": "code",
   "execution_count": 1,
   "id": "f23f9126-702f-4583-8761-9601cf2bdbb7",
   "metadata": {},
   "outputs": [],
   "source": [
    "data_training_array=scaler.fit_transform(data_training)#give a array of training data\n",
    "data_training_array"
   ]
  },
  {
   "cell_type": "code",
   "execution_count": null,
   "id": "39ce3d94-2fc1-487e-a906-16212b190057",
   "metadata": {},
   "outputs": [],
   "source": [
    "x_train=[]\n",
    "y_train=[]\n",
    "\n",
    "for i in range(100,data_training_array.shape[0]):\n",
    "    x_train.append(data_training_array[i-100:i])\n",
    "    y_train.append(data_training_array[i,0])\n",
    "x_train,y_train=np.array(x_train),np.array(y_train)\n",
    "x_train.shape"
   ]
  },
  {
   "cell_type": "code",
   "execution_count": null,
   "id": "412feb6e-01dc-4d12-bbb7-953258866799",
   "metadata": {},
   "outputs": [],
   "source": [
    "# ML MODEl\n",
    "from keras.layers import Dense,Dropout,LSTM\n",
    "from keras.models import Sequential\n"
   ]
  },
  {
   "cell_type": "code",
   "execution_count": null,
   "id": "c2201ce8-9113-4b44-97ae-847352a98035",
   "metadata": {},
   "outputs": [],
   "source": [
    "# unsuper-vise machine learnig =>predict from algosystem\n",
    "# super-vise machine learnig =>predict data from past\n",
    "# nural-network inn ml => KIND OF DATA WICH IS CONNECTED YO EACH OTHER \n",
    "\n",
    "#adding listim layer (LSTM)\n",
    "#relu => f(X) =max(0,x) ==>returns 0 for negative inputs and returns the input value for positive inputs. RECTIFIED LINEAR UNIT\n",
    "#return_sequences=True ==> connect the LSTM layer to another recurrent layer.\n",
    "model = Sequential()#This creates a new Sequential model, where you can add layers one by one.\n",
    "model.add(LSTM(units=50,activation='relu',return_sequences=True,\n",
    "input_shape=(x_train.shape[1],1)))\n",
    "model.add(Dropout(0.2))#prevent overfitting. DELETE DATA AFTER SOME TIME\n",
    "\n",
    "\n",
    "\n",
    "model.add(LSTM(units=60,activation='relu',return_sequences=True))\n",
    "model.add(Dropout(0.3))\n",
    "\n",
    "\n",
    "\n",
    "model.add(LSTM(units=80,activation='relu',return_sequences=True))\n",
    "model.add(Dropout(0.4))\n",
    "\n",
    "\n",
    "\n",
    "model.add(LSTM(units=120,activation='relu'))\n",
    "model.add(Dropout(0.5))\n",
    "\n",
    "\n",
    "                  \n",
    "model.add(Dense(units=1)) #This adds the output layer with a single neuron, which will produce the predicted value\n",
    "\n",
    "\n"
   ]
  },
  {
   "cell_type": "code",
   "execution_count": null,
   "id": "2a8483d5-8f36-4737-bf3a-3462b829f1b5",
   "metadata": {},
   "outputs": [],
   "source": [
    "model.summary()"
   ]
  },
  {
   "cell_type": "code",
   "execution_count": null,
   "id": "3cc19475-66c4-4dce-a87d-8db406940f9c",
   "metadata": {},
   "outputs": [],
   "source": [
    "model.compile(optimizer='adam',loss='mean_squared_error')#model.compile ==> READY THE MODEL FOR FINDING ERROR AND INCREASE ACCURECY\n",
    "model.fit(x_train,y_train,epochs=50) #mean_squared_error ==> DIFFRENCE OF ACTUAL AND PREDICTED VALUE\n",
    "#ADAM ==> ADEPTIVE MOMENT ESTIMATION (ALGO) "
   ]
  },
  {
   "cell_type": "code",
   "execution_count": null,
   "id": "87622a99-627c-43a9-99fc-6c39d3221b9e",
   "metadata": {},
   "outputs": [],
   "source": [
    "model.save('keras_model.keras')"
   ]
  },
  {
   "cell_type": "code",
   "execution_count": null,
   "id": "f1dc28b5-b808-44a3-bc6a-4f63d940914b",
   "metadata": {},
   "outputs": [],
   "source": [
    "data_testing.head()"
   ]
  },
  {
   "cell_type": "code",
   "execution_count": null,
   "id": "3f2c5a04-1a8c-445b-a81a-8fcf87591d12",
   "metadata": {},
   "outputs": [],
   "source": [
    "data_training.tail(100)"
   ]
  },
  {
   "cell_type": "code",
   "execution_count": null,
   "id": "915dce8a-1837-4c56-8184-2a4092011db7",
   "metadata": {},
   "outputs": [],
   "source": [
    "past_days=data_training.tail(100)\n",
    "print(type(past_days))\n",
    "print(type(data_testing))\n"
   ]
  },
  {
   "cell_type": "code",
   "execution_count": null,
   "id": "64878df9-19bf-45a2-805a-ae71be5b37c7",
   "metadata": {},
   "outputs": [],
   "source": [
    "final_data = pd.concat([past_days, data_testing], ignore_index=True)"
   ]
  },
  {
   "cell_type": "code",
   "execution_count": null,
   "id": "44c52b05-c79e-4e06-888a-b890df46ee8f",
   "metadata": {},
   "outputs": [],
   "source": [
    "final_data.head()"
   ]
  },
  {
   "cell_type": "code",
   "execution_count": null,
   "id": "06c02cd4-28bf-4136-b8f4-55fe3a670728",
   "metadata": {},
   "outputs": [],
   "source": [
    "input_data = scaler.fit_transform(final_data)\n"
   ]
  },
  {
   "cell_type": "code",
   "execution_count": null,
   "id": "bcad9253-78a5-4316-9864-45e9dd310111",
   "metadata": {},
   "outputs": [],
   "source": [
    "input_data.shape"
   ]
  },
  {
   "cell_type": "code",
   "execution_count": null,
   "id": "8e37a083-73f7-4ced-a4d1-67e217fb9fd0",
   "metadata": {},
   "outputs": [],
   "source": [
    "x_test=[]\n",
    "y_test=[]\n",
    "\n",
    "for i in range(100,input_data.shape[0]):\n",
    "    x_test.append(input_data[i-100:i])\n",
    "    y_test.append(input_data[i,0])"
   ]
  },
  {
   "cell_type": "code",
   "execution_count": null,
   "id": "28abd293-d4c5-4f8c-8937-f8783384d59d",
   "metadata": {},
   "outputs": [],
   "source": [
    "x_test,y_test = np.array(x_test),np.array(y_test)\n",
    "print(x_test.shape)\n",
    "print(y_test.shape)"
   ]
  },
  {
   "cell_type": "code",
   "execution_count": null,
   "id": "cafb6ae6-d584-452d-9126-247d15760a3b",
   "metadata": {},
   "outputs": [],
   "source": [
    "# Making Predictions\n",
    "y_predicted = model.predict(x_test)"
   ]
  },
  {
   "cell_type": "code",
   "execution_count": null,
   "id": "022dfdff-d9f1-4aa7-b6c5-3cdbfaa79c16",
   "metadata": {},
   "outputs": [],
   "source": [
    "y_predicted.shape"
   ]
  },
  {
   "cell_type": "code",
   "execution_count": null,
   "id": "8981ee6f-fe4e-4dac-9668-9d50d17f1c08",
   "metadata": {},
   "outputs": [],
   "source": [
    "x=scaler.scale_\n",
    "print(x)\n",
    "scale_factor =1/x\n",
    "y_predicted=y_predicted*scale_factor\n",
    "y_test=y_test*scale_factor\n"
   ]
  },
  {
   "cell_type": "code",
   "execution_count": null,
   "id": "369e5d50",
   "metadata": {},
   "outputs": [],
   "source": []
  },
  {
   "cell_type": "code",
   "execution_count": null,
   "id": "b9bbe19d",
   "metadata": {},
   "outputs": [],
   "source": [
    "data\n",
    "\n",
    "def analysis():\n",
    "    data.tail()\n",
    "    while True :\n",
    "        choice=int(input('1.Daily Returns  \\n 2. Moving Average for particular days \\n 3. Moving Average Comparison for particular days \\n 4.closing price \\n 5.anything Else to Exit '))\n",
    "        if choice==1:\n",
    "            daily_returns()\n",
    "        # elif choice==2:\n",
    "        #     closing_graph()\n",
    "        elif choice==2:\n",
    "            days=int(input('Enter Number of Days '))\n",
    "            # moving_average(days)\n",
    "            plt.figure(figsize=(12,6))\n",
    "            plt.plot(data.Close,label='closing price') #closing price\n",
    "            plt.plot(ma100,'r',label='moving avrage')  #moving avrage\n",
    "            plt.title('moving average and close price of {}'.format(symbol), color='g', size=22)\n",
    "            plt.xlabel('Time', color='#FF5733', size=20)\n",
    "            plt.ylabel('close Price', color='#FF5733', size=20)\n",
    "            plt.legend()\n",
    "            plt.show()\n",
    "        elif choice==3:\n",
    "            days1=int(input('Enter Number of Days '))\n",
    "            days2=int(input('Enter Number of Days '))\n",
    "            moving_averages(days1,days2)\n",
    "        elif choice==4:\n",
    "            closing_price()\n",
    "        else :\n",
    "            break"
   ]
  },
  {
   "cell_type": "code",
   "execution_count": null,
   "id": "ace4191c",
   "metadata": {},
   "outputs": [],
   "source": [
    "def prediction():\n",
    "    print(y_test[-1])\n",
    "    print(y_predicted[-1])\n",
    "    plt.figure(figsize=(12,6))\n",
    "    plt.plot(y_test,'b',label=\"Original Price\")\n",
    "    plt.plot(y_predicted,'r',label=\"Predicted Price\")\n",
    "    plt.xlabel('Time', color='#FF5733', size=20)\n",
    "    plt.ylabel('Price', color='#FF5733', size=20)\n",
    "    plt.legend()\n",
    "    plt.show()"
   ]
  },
  {
   "cell_type": "code",
   "execution_count": null,
   "id": "85bdeffb",
   "metadata": {
    "scrolled": false
   },
   "outputs": [],
   "source": [
    "while True :\n",
    "    choice=int(input('Enter your Choice \\n 1. Stock Analysis \\n 2. Prediction \\n 3.holidays of market \\n '))\n",
    "    if choice==1:\n",
    "        analysis()\n",
    "    elif choice==2:\n",
    "        prediction()\n",
    "    elif choice==3:\n",
    "         holiday()\n",
    "    else :\n",
    "        print('----------------THANK YOU-----------------')\n",
    "        break"
   ]
  }
 ],
 "metadata": {
  "kernelspec": {
   "display_name": "Python 3 (ipykernel)",
   "language": "python",
   "name": "python3"
  },
  "language_info": {
   "codemirror_mode": {
    "name": "ipython",
    "version": 3
   },
   "file_extension": ".py",
   "mimetype": "text/x-python",
   "name": "python",
   "nbconvert_exporter": "python",
   "pygments_lexer": "ipython3",
   "version": "3.11.7"
  }
 },
 "nbformat": 4,
 "nbformat_minor": 5
}
